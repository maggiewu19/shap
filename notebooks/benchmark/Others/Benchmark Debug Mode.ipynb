{
 "cells": [
  {
   "cell_type": "markdown",
   "metadata": {},
   "source": [
    "# General Benchmarking Debugging Tool"
   ]
  },
  {
   "cell_type": "markdown",
   "metadata": {},
   "source": [
    "This notebook demonstrates the debugging mode used to differentiate the performance on different output results for text and image explanations. In the case of multiple output tokens / classes, it is usually useful to see the performance individually for any outliers. \n",
    "\n",
    "This notebook contains debugging examples for both text and images. "
   ]
  },
  {
   "cell_type": "markdown",
   "metadata": {},
   "source": [
    "### Text Example (Summarization)"
   ]
  },
  {
   "cell_type": "markdown",
   "metadata": {},
   "source": [
    "Please reference \"Abstractive Summarization Benchmark Demo.ipynb\" for more description about this benchmarking example."
   ]
  },
  {
   "cell_type": "code",
   "execution_count": null,
   "metadata": {},
   "outputs": [],
   "source": [
    "import numpy as np\n",
    "from transformers import AutoTokenizer, AutoModelForSeq2SeqLM\n",
    "import torch\n",
    "import nlp\n",
    "import shap\n",
    "import shap.benchmark as benchmark\n",
    "import matplotlib.pyplot as plt \n",
    "%matplotlib inline"
   ]
  },
  {
   "cell_type": "code",
   "execution_count": null,
   "metadata": {},
   "outputs": [],
   "source": [
    "tokenizer = AutoTokenizer.from_pretrained(\"sshleifer/distilbart-xsum-12-6\")\n",
    "model =  AutoModelForSeq2SeqLM.from_pretrained(\"sshleifer/distilbart-xsum-12-6\")"
   ]
  },
  {
   "cell_type": "code",
   "execution_count": null,
   "metadata": {},
   "outputs": [],
   "source": [
    "dataset = nlp.load_dataset('xsum',split='train')"
   ]
  },
  {
   "cell_type": "code",
   "execution_count": null,
   "metadata": {},
   "outputs": [],
   "source": [
    "s = dataset['document'][0:1]"
   ]
  },
  {
   "cell_type": "code",
   "execution_count": null,
   "metadata": {},
   "outputs": [],
   "source": [
    "explainer = shap.Explainer(model,tokenizer)"
   ]
  },
  {
   "cell_type": "code",
   "execution_count": null,
   "metadata": {},
   "outputs": [],
   "source": [
    "shap_values = explainer(s)"
   ]
  },
  {
   "cell_type": "code",
   "execution_count": null,
   "metadata": {},
   "outputs": [],
   "source": [
    "sort_order = 'positive'\n",
    "perturbation = 'keep'"
   ]
  },
  {
   "cell_type": "code",
   "execution_count": null,
   "metadata": {},
   "outputs": [],
   "source": [
    "sequential_perturbation = benchmark.perturbation.SequentialPerturbation(explainer.model, explainer.masker, sort_order, perturbation)\n",
    "mask_vals, curves, aucs = sequential_perturbation.model_score(shap_values, s, debug_mode=True)"
   ]
  },
  {
   "cell_type": "code",
   "execution_count": null,
   "metadata": {},
   "outputs": [],
   "source": [
    "xs = np.linspace(0,1,100)\n",
    "for index in range(len(curves)):\n",
    "    plt.plot(xs, curves[index,:], label='{}'.format(shap_values.output_names[0][index]))\n",
    "    plt.legend()\n",
    "plt.show() "
   ]
  },
  {
   "cell_type": "code",
   "execution_count": null,
   "metadata": {},
   "outputs": [],
   "source": [
    "fig, axs = plt.subplots(6,4,figsize=(15,25)) \n",
    "xs = np.linspace(0,1,100)\n",
    "for index in range(len(curves)):\n",
    "    x = index // 4\n",
    "    y = index % 4 \n",
    "    if index == 0: \n",
    "        shift = 0\n",
    "    else:\n",
    "        shift = 1 \n",
    "    axs[x,y].plot(xs, curves[index,:])\n",
    "    axs[x,y].set_title('{}'.format(shap_values.output_names[0][index][shift:]))\n",
    "    axs[x,y].set_ylim(-10,4)\n",
    "plt.show() "
   ]
  },
  {
   "cell_type": "markdown",
   "metadata": {},
   "source": [
    "### Image Example (Multi-class)"
   ]
  },
  {
   "cell_type": "markdown",
   "metadata": {},
   "source": [
    "Please reference \"Image Multiclass Classification Benchmark Demo.ipynb\" for more description about this benchmarking example."
   ]
  },
  {
   "cell_type": "code",
   "execution_count": null,
   "metadata": {},
   "outputs": [],
   "source": [
    "import json\n",
    "import numpy as np\n",
    "import shap\n",
    "import shap.benchmark as benchmark\n",
    "import tensorflow as tf\n",
    "import scipy as sp\n",
    "from tensorflow.keras.applications.resnet50 import ResNet50, preprocess_input\n",
    "import matplotlib.pyplot as plt \n",
    "%matplotlib inline"
   ]
  },
  {
   "cell_type": "code",
   "execution_count": null,
   "metadata": {},
   "outputs": [],
   "source": [
    "model = ResNet50(weights='imagenet')\n",
    "X, y = shap.datasets.imagenet50()"
   ]
  },
  {
   "cell_type": "code",
   "execution_count": null,
   "metadata": {},
   "outputs": [],
   "source": [
    "url = \"https://s3.amazonaws.com/deep-learning-models/image-models/imagenet_class_index.json\"\n",
    "with open(shap.datasets.cache(url)) as file:\n",
    "    class_names = [v[1] for v in json.load(file).values()]"
   ]
  },
  {
   "cell_type": "code",
   "execution_count": null,
   "metadata": {},
   "outputs": [],
   "source": [
    "def f(x):\n",
    "    tmp = x.copy()\n",
    "    if len(tmp.shape) == 2: \n",
    "        tmp = tmp.reshape(tmp.shape[0], *X[0].shape)\n",
    "    preprocess_input(tmp)\n",
    "    return model(tmp)"
   ]
  },
  {
   "cell_type": "code",
   "execution_count": null,
   "metadata": {},
   "outputs": [],
   "source": [
    "masker = shap.maskers.Image(\"inpaint_telea\", X[0].shape)"
   ]
  },
  {
   "cell_type": "code",
   "execution_count": null,
   "metadata": {},
   "outputs": [],
   "source": [
    "explainer = shap.Explainer(f, masker, output_names=class_names)"
   ]
  },
  {
   "cell_type": "code",
   "execution_count": null,
   "metadata": {},
   "outputs": [],
   "source": [
    "shap_values = explainer(X[1:3], max_evals=500, batch_size=50, outputs=shap.Explanation.argsort.flip[:4]) "
   ]
  },
  {
   "cell_type": "code",
   "execution_count": null,
   "metadata": {},
   "outputs": [],
   "source": [
    "output = f(X[1:3]).numpy()\n",
    "num_of_outputs = 4\n",
    "sorted_indexes = np.argsort(-output,axis=1)\n",
    "sliced_indexes = np.array([index_list[:num_of_outputs] for index_list in sorted_indexes])"
   ]
  },
  {
   "cell_type": "code",
   "execution_count": null,
   "metadata": {},
   "outputs": [],
   "source": [
    "# getting output labels \n",
    "labels = np.array(class_names)\n",
    "sliced_labels = np.array([labels[index_list[:num_of_outputs]] for index_list in sorted_indexes])"
   ]
  },
  {
   "cell_type": "code",
   "execution_count": null,
   "metadata": {},
   "outputs": [],
   "source": [
    "sort_order = 'positive'\n",
    "perturbation = 'keep'"
   ]
  },
  {
   "cell_type": "code",
   "execution_count": null,
   "metadata": {},
   "outputs": [],
   "source": [
    "sequential_perturbation = benchmark.perturbation.SequentialPerturbation(explainer.model, explainer.masker, sort_order, perturbation)\n",
    "mask_vals, curves, aucs = sequential_perturbation.model_score(shap_values, X[1:2], indices=sliced_indexes[0], debug_mode=True)"
   ]
  },
  {
   "cell_type": "code",
   "execution_count": null,
   "metadata": {},
   "outputs": [],
   "source": [
    "xs = np.linspace(0,1,100)\n",
    "for index in range(len(curves)):\n",
    "    plt.plot(xs, curves[index,:], label='{}'.format(sliced_labels[0][index]))\n",
    "    plt.ylabel('Model Output')\n",
    "    plt.xlabel('Percent Unmasked')\n",
    "    plt.legend()\n",
    "plt.show() "
   ]
  },
  {
   "cell_type": "code",
   "execution_count": null,
   "metadata": {},
   "outputs": [],
   "source": [
    "image = X[1:2][0] / 255 \n",
    "top_class = np.array(mask_vals)[0][0:int(np.array(mask_vals)[0].shape[0]/num_of_outputs), :]\n",
    "top_class = top_class.reshape(top_class.shape[0], *X[0].shape)"
   ]
  },
  {
   "cell_type": "code",
   "execution_count": null,
   "metadata": {},
   "outputs": [],
   "source": [
    "masked_image = image * top_class[0].astype(int)\n",
    "fig, axs = plt.subplots(4,4,figsize=(15,15))\n",
    "for percent in range(0, 80, 5):\n",
    "    masked_image = image * top_class[percent].astype(int)\n",
    "    x = percent // 5 // 4\n",
    "    y = percent // 5 % 4\n",
    "    axs[x, y].imshow(masked_image)\n",
    "    axs[x, y].set_title('Unmasking ({}%), Output ({})'.format(percent, round(curves[0][percent],3)))\n",
    "fig.suptitle('Unmask (ordered by most positive SHAP value to least)')\n",
    "plt.show()"
   ]
  }
 ],
 "metadata": {
  "kernelspec": {
   "display_name": "Python 3",
   "language": "python",
   "name": "python3"
  },
  "language_info": {
   "codemirror_mode": {
    "name": "ipython",
    "version": 3
   },
   "file_extension": ".py",
   "mimetype": "text/x-python",
   "name": "python",
   "nbconvert_exporter": "python",
   "pygments_lexer": "ipython3",
   "version": "3.7.9"
  }
 },
 "nbformat": 4,
 "nbformat_minor": 4
}
